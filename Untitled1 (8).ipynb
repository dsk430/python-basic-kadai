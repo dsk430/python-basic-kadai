{
  "nbformat": 4,
  "nbformat_minor": 0,
  "metadata": {
    "colab": {
      "provenance": []
    },
    "kernelspec": {
      "name": "python3",
      "display_name": "Python 3"
    },
    "language_info": {
      "name": "python"
    }
  },
  "cells": [
    {
      "cell_type": "code",
      "source": [
        "\n",
        "vars = [3,4,5,15]\n",
        "\n",
        "for var in vars:\n",
        "\n",
        " if var%3 == 0:\n",
        "  if var%5 == 0:\n",
        "    print(\"FizzBuzz\")\n",
        "  else:\n",
        "    print(\"Fizz\")\n",
        " elif var%5 == 0:\n",
        "  print(\"Buzz\")\n",
        " else:\n",
        "  print(var)\n",
        "\n"
      ],
      "metadata": {
        "colab": {
          "base_uri": "https://localhost:8080/"
        },
        "id": "l0Zb0XffVM0A",
        "outputId": "5157e7e5-5233-419b-ccd1-aa1c9bf3177b"
      },
      "execution_count": 19,
      "outputs": [
        {
          "output_type": "stream",
          "name": "stdout",
          "text": [
            "Fizz\n",
            "4\n",
            "Buzz\n",
            "FizzBuzz\n"
          ]
        }
      ]
    }
  ]
}