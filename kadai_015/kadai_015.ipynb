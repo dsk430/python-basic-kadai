{
  "nbformat": 4,
  "nbformat_minor": 0,
  "metadata": {
    "colab": {
      "provenance": []
    },
    "kernelspec": {
      "name": "python3",
      "display_name": "Python 3"
    },
    "language_info": {
      "name": "python"
    }
  },
  "cells": [
    {
      "cell_type": "code",
      "source": [
        "class Human:\n",
        "  def __init__ (self,name,age):\n",
        "    self.name = name\n",
        "    self.age = age\n",
        "\n",
        "  def printinfo(self):\n",
        "    print(f\"{self.name}さんは{self.age}歳です\")\n",
        "\n",
        "\n",
        "\n",
        "\n",
        "human = Human(\"samurai\",30)\n",
        "human.printinfo()"
      ],
      "metadata": {
        "colab": {
          "base_uri": "https://localhost:8080/"
        },
        "id": "eWltQTyIdKhm",
        "outputId": "e715902a-20ad-48bf-d5e6-4e0055ef35db"
      },
      "execution_count": 5,
      "outputs": [
        {
          "output_type": "stream",
          "name": "stdout",
          "text": [
            "samuraiさんは30歳です\n"
          ]
        }
      ]
    }
  ]
}