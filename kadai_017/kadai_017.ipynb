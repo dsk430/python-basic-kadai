{
  "nbformat": 4,
  "nbformat_minor": 0,
  "metadata": {
    "colab": {
      "provenance": []
    },
    "kernelspec": {
      "name": "python3",
      "display_name": "Python 3"
    },
    "language_info": {
      "name": "python"
    }
  },
  "cells": [
    {
      "cell_type": "code",
      "source": [
        "class Human:\n",
        "  def __init__(self,name,age):\n",
        "    self.name = name\n",
        "    self.age = age\n",
        "\n",
        "  def checkout_adult(self):\n",
        "    if self.age >= 20:\n",
        "      print(f\"{self.name}さんは大人です\")\n",
        "    else:\n",
        "      print(f\"{self.name}さんは大人ではありません\")\n",
        "\n",
        "human1 = Human(\"侍太郎\",27)\n",
        "human2 = Human(\"侍一郎\",23)\n",
        "human3 = Human(\"侍次郎\",19)\n",
        "\n",
        "humans = [human1,human2,human3]\n",
        "\n",
        "for human in humans:\n",
        "  human.checkout_adult()\n",
        "\n"
      ],
      "metadata": {
        "colab": {
          "base_uri": "https://localhost:8080/"
        },
        "id": "Udu-84eTkp_n",
        "outputId": "ca0801db-429b-4ede-fdd0-3fb2e440633f"
      },
      "execution_count": 2,
      "outputs": [
        {
          "output_type": "stream",
          "name": "stdout",
          "text": [
            "侍太郎さんは大人です\n",
            "侍一郎さんは大人です\n",
            "侍次郎さんは大人ではありません\n"
          ]
        }
      ]
    }
  ]
}