{
  "nbformat": 4,
  "nbformat_minor": 0,
  "metadata": {
    "colab": {
      "provenance": []
    },
    "kernelspec": {
      "name": "python3",
      "display_name": "Python 3"
    },
    "language_info": {
      "name": "python"
    }
  },
  "cells": [
    {
      "cell_type": "code",
      "execution_count": 1,
      "metadata": {
        "id": "o5jDB-sT9yGM",
        "colab": {
          "base_uri": "https://localhost:8080/"
        },
        "outputId": "7cb3d041-2182-4b1e-89a4-a93f614eb008"
      },
      "outputs": [
        {
          "output_type": "stream",
          "name": "stdout",
          "text": [
            "75.0㎠\n"
          ]
        }
      ],
      "source": [
        "top = 10\n",
        "bottom = 20\n",
        "height = 5\n",
        "\n",
        "area = (top + bottom)*height/2\n",
        "\n",
        "print(str(area) + \"㎠\" )\n"
      ]
    }
  ]
}