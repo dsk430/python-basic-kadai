{
  "nbformat": 4,
  "nbformat_minor": 0,
  "metadata": {
    "colab": {
      "provenance": []
    },
    "kernelspec": {
      "name": "python3",
      "display_name": "Python 3"
    },
    "language_info": {
      "name": "python"
    }
  },
  "cells": [
    {
      "cell_type": "code",
<<<<<<< HEAD
      "source": [
        "array = [\"月曜日は晴れです\",\"火曜日は雨です\",\"水曜日は晴れです\",\"木曜日は晴れです\",\"金曜日は曇りです\",\"土曜日は曇りのち雨です\",\"日曜日は雷雨です\"]\n",
        "dictionary = {\"mon\":\"晴れ\",\"tue\":\"雨\",\"wed\":\"晴れ\",\"thu\":\"晴れ\",\"fri\":\"曇り\",\"sat\":\"曇りのち雨\",\"sun\":\"雷雨\"}\n",
        "print(array[2])\n",
        "print(dictionary[\"wed\"])\n"
      ],
      "metadata": {
        "colab": {
          "base_uri": "https://localhost:8080/"
        },
        "id": "mHMfJTRKSrRf",
        "outputId": "a194de49-26c5-455e-aff4-10eb0a34f14f"
      },
      "execution_count": 2,
=======
      "execution_count": 1,
      "metadata": {
        "id": "o5jDB-sT9yGM",
        "colab": {
          "base_uri": "https://localhost:8080/"
        },
        "outputId": "7cb3d041-2182-4b1e-89a4-a93f614eb008"
      },
>>>>>>> origin/main
      "outputs": [
        {
          "output_type": "stream",
          "name": "stdout",
          "text": [
<<<<<<< HEAD
            "水曜日は晴れです\n",
            "晴れ\n"
          ]
        }
=======
            "75.0㎠\n"
          ]
        }
      ],
      "source": [
        "top = 10\n",
        "bottom = 20\n",
        "height = 5\n",
        "\n",
        "area = (top + bottom)*height/2\n",
        "\n",
        "print(str(area) + \"㎠\" )\n"
>>>>>>> origin/main
      ]
    }
  ]
}